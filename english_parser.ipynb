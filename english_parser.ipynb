{
 "cells": [
  {
   "cell_type": "markdown",
   "metadata": {},
   "source": [
    "# Einfache Syntaxprüfung\n",
    "\n",
    "Damit Programmcode vom Computer verarbeitet werden kann, muss er in Maschinensprache übersetzt werden. Als erster Schritt (Syntaktische Analyse) wird dabei die Syntax der Eingabe überprüft und strukturiert.\n",
    "\n",
    "Am Beispiel der einfachen englischen Aussagesätze von vorhin möchten wir Euch zeigen, was ein Parser macht, nämlich die **Überprüfung der Syntax** (für uns die *Validierung eines englischen Aussagesatzes*) und die **Strukturierung in einem Syntaxbaum** (den Ihr hier als Nebenprodukt auch sehen könnt – für Euch wäre das dann eher die *Zerlegung in Subjekt, Prädikat und Objekt*).\n",
    "\n",
    "Anhand der Beispielsätze\n",
    "* Joe likes Kamala.\n",
    "* Kamala likes Joe.\n",
    "* She likes Donald.\n",
    "* Donald likes her.\n",
    "* Joe likes it.\n",
    "* It likes Joe.\n",
    "\n",
    "haben wir vorhin die folgende Grammatik definiert:\n",
    "\n",
    "## Grammatik in [EBNF](https://de.wikipedia.org/wiki/Erweiterte_Backus-Naur-Form)\n",
    "    \n",
    "**sentence:** subject predicate object \".\"\n",
    "\n",
    "**subject:** NAME | SUBJ_DECL\n",
    "\n",
    "**predicate:** VERB\n",
    "\n",
    "**object:** NAME | OBJ_DECL\n",
    "\n",
    "**VERB:** \"likes\" | \"sees\"\n",
    "\n",
    "**NAME:** \"Joe\" | \"Kamala\" | \"Donald\"\n",
    "\n",
    "**SUBJ_DECL:** \"He\" | \"It\" | \"She\"\n",
    "\n",
    "**OBJ_DECL:** \"him\" | \"it\" | \"her\""
   ]
  },
  {
   "cell_type": "markdown",
   "metadata": {},
   "source": [
    "Um das Beispiel laufen zu lassen wird eine Bibliothek benötigt, die für die Session installiert werden muss. Die Installation erfolgt nicht auf Euren Rechnern und ist nötig, damit der Code weiter unten funktioniert. Deshalb einfach ungeniert ausführen, es ist nachher wieder weg."
   ]
  },
  {
   "cell_type": "code",
   "execution_count": 35,
   "metadata": {},
   "outputs": [],
   "source": [
    "# Nach der ersten Ausführung die folgende Zeile auskommentieren mit #\n",
    "#!pip install lark"
   ]
  },
  {
   "cell_type": "markdown",
   "metadata": {},
   "source": [
    "Der folgende Code enthält das Programm. Es muss ausgeführt werden, damit Ihr Eure Sätze testen könnt."
   ]
  },
  {
   "cell_type": "code",
   "execution_count": 1,
   "metadata": {},
   "outputs": [],
   "source": [
    "# Imports\n",
    "from lark import Lark, tree\n",
    "\n",
    "# Grammar definition\n",
    "grammar = \"\"\"\n",
    "    sentence: subject predicate object \".\"\n",
    "\n",
    "    subject: NAME | SUBJ_DECL\n",
    "    \n",
    "    predicate: VERB\n",
    "    \n",
    "    object: NAME | OBJ_DECL\n",
    "    \n",
    "    VERB: \"likes\" | \"sees\"\n",
    "    \n",
    "    NAME: \"Joe\" | \"Kamala\" | \"Donald\"\n",
    "    \n",
    "    SUBJ_DECL: \"He\" | \"It\" | \"She\"\n",
    "    \n",
    "    OBJ_DECL: \"him\" | \"it\" | \"her\"\n",
    "    \n",
    "    %import common.WS\n",
    "    %ignore WS\n",
    "\"\"\"\n",
    "\n",
    "# Parser definition\n",
    "parser = Lark(grammar, start='sentence', ambiguity='explicit')\n",
    "\n",
    "# Validation function\n",
    "def validate_sentence(sentence):\n",
    "    #user_input = input(\"Please enter your sentence: \")\n",
    "    try:\n",
    "        t = parser.parse(sentence)\n",
    "    except: # Most basic exception handling as we just want to validate input\n",
    "        print('Your sentence is invalid.')\n",
    "        return\n",
    "    print('Your sentence is valid. Your Syntax tree:')\n",
    "    print(t.pretty())"
   ]
  },
  {
   "cell_type": "markdown",
   "metadata": {},
   "source": [
    "Um alle Sätze mal schnell durchzuprüfen, können wir sie in einem Array speichern und dieses automatisch durchgehen:"
   ]
  },
  {
   "cell_type": "code",
   "execution_count": 2,
   "metadata": {},
   "outputs": [
    {
     "name": "stdout",
     "output_type": "stream",
     "text": [
      "- Validating the following sentence:  Joe likes Kamala.\n",
      "Your sentence is valid. Your Syntax tree:\n",
      "sentence\n",
      "  subject\tJoe\n",
      "  predicate\tlikes\n",
      "  object\tKamala\n",
      "\n",
      "- Validating the following sentence:  Kamala likes Joe.\n",
      "Your sentence is valid. Your Syntax tree:\n",
      "sentence\n",
      "  subject\tKamala\n",
      "  predicate\tlikes\n",
      "  object\tJoe\n",
      "\n",
      "- Validating the following sentence:  She likes Donald.\n",
      "Your sentence is valid. Your Syntax tree:\n",
      "sentence\n",
      "  subject\tShe\n",
      "  predicate\tlikes\n",
      "  object\tDonald\n",
      "\n",
      "- Validating the following sentence:  Donald likes her.\n",
      "Your sentence is valid. Your Syntax tree:\n",
      "sentence\n",
      "  subject\tDonald\n",
      "  predicate\tlikes\n",
      "  object\ther\n",
      "\n",
      "- Validating the following sentence:  Joe likes it.\n",
      "Your sentence is valid. Your Syntax tree:\n",
      "sentence\n",
      "  subject\tJoe\n",
      "  predicate\tlikes\n",
      "  object\tit\n",
      "\n",
      "- Validating the following sentence:  It likes Joe.\n",
      "Your sentence is valid. Your Syntax tree:\n",
      "sentence\n",
      "  subject\tIt\n",
      "  predicate\tlikes\n",
      "  object\tJoe\n",
      "\n"
     ]
    }
   ],
   "source": [
    "sentences = [\"Joe likes Kamala.\", \n",
    "             \"Kamala likes Joe.\", \n",
    "             \"She likes Donald.\", \n",
    "             \"Donald likes her.\",\n",
    "             \"Joe likes it.\",\n",
    "             \"It likes Joe.\"]\n",
    "\n",
    "for sample in sentences:\n",
    "    print(\"- Validating the following sentence: \", sample)\n",
    "    validate_sentence(sample)\n",
    "    "
   ]
  },
  {
   "cell_type": "markdown",
   "metadata": {},
   "source": [
    "Nun seid Ihr dran: Wenn Ihr die folgende Zelle ausführt, werdet Ihr aufgefordert, eure eigenen Sätze einzugeben.\n",
    "\n",
    "In der Definition der Grammatik gibt es neben dem Verb \"likes\" noch ein zweites Verb, \"sees\". Ihr könnt Die Grammatik oben auch erweitern, z.B. mit euren Namen, dann müsst Ihr die entsprechende Zelle einfach noch einmal ausführen.\n",
    "\n",
    "Die folgende Zeile könnt Ihr beliebig oft ausführen, jeweils mit dem Play-Button oder (mit der Tastenkombination Shift und Enter)."
   ]
  },
  {
   "cell_type": "code",
   "execution_count": 3,
   "metadata": {},
   "outputs": [
    {
     "name": "stdout",
     "output_type": "stream",
     "text": [
      "Please enter your sentence: He likes him.\n",
      "Your sentence is valid. Your Syntax tree:\n",
      "sentence\n",
      "  subject\tHe\n",
      "  predicate\tlikes\n",
      "  object\thim\n",
      "\n"
     ]
    }
   ],
   "source": [
    "user_input = input(\"Please enter your sentence: \")\n",
    "validate_sentence(user_input)"
   ]
  },
  {
   "cell_type": "code",
   "execution_count": null,
   "metadata": {},
   "outputs": [],
   "source": []
  }
 ],
 "metadata": {
  "kernelspec": {
   "display_name": "Python 3",
   "language": "python",
   "name": "python3"
  },
  "language_info": {
   "codemirror_mode": {
    "name": "ipython",
    "version": 3
   },
   "file_extension": ".py",
   "mimetype": "text/x-python",
   "name": "python",
   "nbconvert_exporter": "python",
   "pygments_lexer": "ipython3",
   "version": "3.8.5"
  }
 },
 "nbformat": 4,
 "nbformat_minor": 1
}
